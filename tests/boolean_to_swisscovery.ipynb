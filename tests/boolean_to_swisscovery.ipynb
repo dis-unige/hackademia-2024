{
 "cells": [
  {
   "cell_type": "code",
   "execution_count": 15,
   "id": "d7a0b26e-934c-4711-97ec-bbc01dc45ff6",
   "metadata": {},
   "outputs": [],
   "source": [
    "import urllib.parse\n",
    "import json"
   ]
  },
  {
   "cell_type": "code",
   "execution_count": 16,
   "id": "77a9cf97-d6b5-48f3-ae94-26a6f5660871",
   "metadata": {},
   "outputs": [],
   "source": [
    "input = '''{\n",
    "\"AUTHOR\": \"Michel Mayor\",\n",
    "\"START_DATE\": null,\n",
    "\"END_DATE\": \"2010\",\n",
    "\"SUBJECT\": \"(transitions OR transition) AND (sciences OR scientific OR technology OR technologie)\"}'''"
   ]
  },
  {
   "cell_type": "code",
   "execution_count": 17,
   "id": "8c230cb4-f969-4dfe-86a9-1640da6addfa",
   "metadata": {},
   "outputs": [],
   "source": [
    "# parse json:\n",
    "\n",
    "input = json.loads(input)"
   ]
  },
  {
   "cell_type": "code",
   "execution_count": 18,
   "id": "c61ec9e5-7fec-4276-9bad-b98e2d9083dc",
   "metadata": {},
   "outputs": [],
   "source": [
    "# encoder en URL si pas égal à \"null\"\n",
    "\n",
    "def encode_url(param):\n",
    "    if param is not None:\n",
    "        return urllib.parse.quote(param)"
   ]
  },
  {
   "cell_type": "code",
   "execution_count": 19,
   "id": "fd091291-0cca-49c1-9051-f3601f964773",
   "metadata": {},
   "outputs": [],
   "source": [
    "# Génère une URL Swisscovery UNIGE à partir des paramètres fournis.\n",
    "\n",
    "def generate_unige_url(input):\n",
    "    base_url = \"https://unige.swisscovery.slsp.ch/discovery/search\"\n",
    "    author = input.get(\"AUTHOR\")\n",
    "    subject = input.get(\"SUBJECT\")\n",
    "    start_date = input.get(\"START_DATE\")\n",
    "    end_date = input.get(\"END_DATE\")\n",
    "    \n",
    "    print(\"author: \")\n",
    "    print(author)\n",
    "    print(\"subject: \")\n",
    "    print(subject)\n",
    "    print(\"start date: \")\n",
    "    print(start_date)\n",
    "    print(\"end_date: \")\n",
    "    print(end_date)\n",
    "    \n",
    "\n",
    "    # Encode en URL\n",
    "\n",
    "    author_encoded = encode_url(author)\n",
    "    subject_encoded = encode_url(subject)\n",
    "    start_date_encoded = encode_url(start_date)\n",
    "    end_date_encoded = encode_url(end_date)\n",
    "\n",
    "    # Si pas de end_date, il faut mettre 99991231. Sinon ne fonctionne pas.\n",
    "    \n",
    "    query_parts = []\n",
    "    \n",
    "    # Ajouter les paramètres uniquement s'ils ne sont pas null\n",
    "    \n",
    "    if author is not None:\n",
    "        author_encoded = encode_url(author)\n",
    "        query_parts.append(f\"query=creator,contains,{author_encoded},AND\")\n",
    "\n",
    "    if subject is not None:\n",
    "        subject_encoded = encode_url(subject)\n",
    "        query_parts.append(f\"query=any,contains,{subject_encoded},AND\")\n",
    "\n",
    "    # Ajouter la start_date et end_date en corrélation (si l'une est donnée, swisscovery a besoin d'une valeur pour l'autre)\n",
    "    \n",
    "    if start_date is not None:\n",
    "        start_date_encoded = encode_url(start_date)\n",
    "        query_parts.append(f\"pfilter=dr_s,exact,{start_date_encoded}0101,AND\")\n",
    "        if end_date is not None:\n",
    "            end_date_encoded = encode_url(end_date)\n",
    "            query_parts.append(f\"pfilter=dr_e,exact,{end_date_encoded}1231,AND\")\n",
    "        else:\n",
    "            query_parts.append(f\"pfilter=dr_e,exact,99991231,AND\")\n",
    "    else:\n",
    "        if end_date is not None:\n",
    "            query_parts.append(f\"pfilter=dr_s,exact,-99990101,AND\")\n",
    "            query_parts.append(f\"pfilter=dr_e,exact,99991231,AND\")\n",
    "\n",
    "    # Ajouter les paramètres fixes de l'URL\n",
    "    query_parts.extend([\n",
    "        \"tab=41SLSP_UGE_MyInst_CI\",\n",
    "        \"search_scope=MyInst_and_CI\",\n",
    "        \"vid=41SLSP_UGE:VU1\",\n",
    "        \"mode=advanced\"\n",
    "    ])\n",
    "\n",
    "    url = f\"{base_url}?\" + \"&\".join(query_parts)\n",
    "    return url\n",
    "\n",
    "\n"
   ]
  },
  {
   "cell_type": "code",
   "execution_count": 20,
   "id": "4eed03da-a2d5-4cad-965a-8eb1f9e1eef8",
   "metadata": {},
   "outputs": [
    {
     "name": "stdout",
     "output_type": "stream",
     "text": [
      "author: \n",
      "Michel Mayor\n",
      "subject: \n",
      "(transitions OR transition) AND (sciences OR scientific OR technology OR technologie)\n",
      "start date: \n",
      "None\n",
      "end_date: \n",
      "2010\n",
      "https://unige.swisscovery.slsp.ch/discovery/search?query=creator,contains,Michel%20Mayor,AND&query=any,contains,%28transitions%20OR%20transition%29%20AND%20%28sciences%20OR%20scientific%20OR%20technology%20OR%20technologie%29,AND&pfilter=dr_s,exact,-99990101,AND&pfilter=dr_e,exact,99991231,AND&tab=41SLSP_UGE_MyInst_CI&search_scope=MyInst_and_CI&vid=41SLSP_UGE:VU1&mode=advanced\n"
     ]
    }
   ],
   "source": [
    "result_url = generate_unige_url(input)\n",
    "print(result_url)"
   ]
  },
  {
   "cell_type": "code",
   "execution_count": 8,
   "id": "e6d4e7c3-760d-4770-a3fd-a49074fd80e0",
   "metadata": {},
   "outputs": [
    {
     "data": {
      "text/plain": [
       "'\\nTo improve:\\n* Take a response that includes not JSON text (ex: explanation before and after the JSON)\\n* Manage a response with only the start date (i.e. set automatically end_date = stard_date)\\n* Avoid that the AI put a subject date as a date filter (ex: document about XVIIIe s.)\\n'"
      ]
     },
     "execution_count": 8,
     "metadata": {},
     "output_type": "execute_result"
    }
   ],
   "source": [
    "\"\"\"\n",
    "To improve:\n",
    "* Take a response that includes not JSON text (ex: explanation before and after the JSON)\n",
    "* Manage a response with only the start date (i.e. set automatically end_date = stard_date)\n",
    "* Avoid that the AI put a subject date as a date filter (ex: document about XVIIIe s.)\n",
    "\"\"\""
   ]
  }
 ],
 "metadata": {
  "kernelspec": {
   "display_name": "Python 3 (ipykernel)",
   "language": "python",
   "name": "python3"
  },
  "language_info": {
   "codemirror_mode": {
    "name": "ipython",
    "version": 3
   },
   "file_extension": ".py",
   "mimetype": "text/x-python",
   "name": "python",
   "nbconvert_exporter": "python",
   "pygments_lexer": "ipython3",
   "version": "3.12.7"
  }
 },
 "nbformat": 4,
 "nbformat_minor": 5
}
