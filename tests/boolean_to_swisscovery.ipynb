{
 "cells": [
  {
   "cell_type": "code",
   "execution_count": 68,
   "id": "d7a0b26e-934c-4711-97ec-bbc01dc45ff6",
   "metadata": {},
   "outputs": [],
   "source": [
    "\"\"\"\n",
    "A améliorer:\n",
    "* Récupération JSON, cf: https://medium.com/@harshitdy/how-to-get-only-json-response-from-any-llm-using-langchain-ed53bc2df50f\n",
    "* [ok] Prompt de base\n",
    "* [ok] Interaction avec requête initiale, distinction \"à partir de\" ou depuis\n",
    "\"\"\"\n",
    "\n",
    "import urllib.parse\n",
    "import json"
   ]
  },
  {
   "cell_type": "code",
   "execution_count": 69,
   "id": "77a9cf97-d6b5-48f3-ae94-26a6f5660871",
   "metadata": {},
   "outputs": [],
   "source": [
    "input = '''{\n",
    "   \"author\": \"laurent gaudé\",\n",
    " \"start_date\": 2008,\n",
    " \"end_date\": null,\n",
    " \"subject\": null\n",
    "}'''\n",
    "\n",
    "search = \"Un roman de Laurent Gaudé publié en 2008\"\n",
    "\n",
    "# parse json:\n",
    "\n",
    "input = json.loads(input)"
   ]
  },
  {
   "cell_type": "code",
   "execution_count": 70,
   "id": "c61ec9e5-7fec-4276-9bad-b98e2d9083dc",
   "metadata": {},
   "outputs": [],
   "source": [
    "# Fonction: encoder en URL si pas égal à \"null\"\n",
    "\n",
    "def encode_url(param):\n",
    "    if param is not None:\n",
    "        return urllib.parse.quote(param)"
   ]
  },
  {
   "cell_type": "code",
   "execution_count": 71,
   "id": "fd091291-0cca-49c1-9051-f3601f964773",
   "metadata": {},
   "outputs": [],
   "source": [
    "# Fonction: générer une URL Swisscovery UNIGE à partir des paramètres fournis.\n",
    "\n",
    "def create_swisscovery_url(input):\n",
    "    base_url = \"https://unige.swisscovery.slsp.ch/discovery/search\"\n",
    "    author = input.get(\"author\")\n",
    "    subject = input.get(\"subject\")\n",
    "    start_date = input.get(\"start_date\")\n",
    "    end_date = input.get(\"end_date\")\n",
    "\n",
    "    # Encoder en URL\n",
    "\n",
    "    author_encoded = encode_url(author)\n",
    "    subject_encoded = encode_url(subject)\n",
    "    start_date_encoded = encode_url(str(start_date))\n",
    "    end_date_encoded = encode_url(str(end_date))\n",
    "\n",
    "    # Ajouter les paramètres uniquement s'ils ne sont pas null\n",
    "    \n",
    "    query_parts = []\n",
    "    \n",
    "    if author is not None:\n",
    "        author_encoded = encode_url(author)\n",
    "        query_parts.append(f\"query=creator,contains,{author_encoded},AND\")\n",
    "\n",
    "    if subject is not None:\n",
    "        subject_encoded = encode_url(subject)\n",
    "        query_parts.append(f\"query=any,contains,{subject_encoded},AND\")\n",
    "\n",
    "    # Ajouter la start_date et end_date en corrélation (si l'une est donnée, swisscovery a besoin d'une valeur pour l'autre)\n",
    "    \n",
    "    if start_date is not None:\n",
    "        query_parts.append(f\"pfilter=dr_s,exact,{start_date_encoded}0101,AND\")\n",
    "        if end_date is not None:\n",
    "            query_parts.append(f\"pfilter=dr_e,exact,{end_date_encoded}1231,AND\")\n",
    "        else:\n",
    "            # Distinction entre publié en 2008 et publié depuis 2008\n",
    "            keywords = [\"depuis\", \"à partir de\", \"from\", \"since\"]\n",
    "            if any(keyword in search for keyword in keywords):\n",
    "                query_parts.append(f\"pfilter=dr_e,exact,99991231,AND\")\n",
    "            else:\n",
    "                query_parts.append(f\"pfilter=dr_e,exact,{start_date_encoded}1231,AND\")\n",
    "    else:\n",
    "        if end_date is not None:\n",
    "            query_parts.append(f\"pfilter=dr_s,exact,-99990101,AND\")\n",
    "            query_parts.append(f\"pfilter=dr_e,exact,99991231,AND\")\n",
    "\n",
    "    # Ajouter les paramètres fixes de l'URL\n",
    "    \n",
    "    query_parts.extend([\n",
    "        \"tab=41SLSP_UGE_MyInst_CI\",\n",
    "        \"search_scope=MyInst_and_CI\",\n",
    "        \"vid=41SLSP_UGE:VU1\",\n",
    "        \"mode=advanced\"\n",
    "    ])\n",
    "\n",
    "    url = f\"{base_url}?\" + \"&\".join(query_parts)\n",
    "    return url"
   ]
  },
  {
   "cell_type": "code",
   "execution_count": 72,
   "id": "4eed03da-a2d5-4cad-965a-8eb1f9e1eef8",
   "metadata": {},
   "outputs": [
    {
     "name": "stdout",
     "output_type": "stream",
     "text": [
      "https://unige.swisscovery.slsp.ch/discovery/search?query=creator,contains,laurent%20gaud%C3%A9,AND&pfilter=dr_s,exact,20080101,AND&pfilter=dr_e,exact,20081231,AND&tab=41SLSP_UGE_MyInst_CI&search_scope=MyInst_and_CI&vid=41SLSP_UGE:VU1&mode=advanced\n"
     ]
    }
   ],
   "source": [
    "# Générer et afficher l'URL\n",
    "\n",
    "result_url = create_swisscovery_url(input)\n",
    "print(result_url)"
   ]
  }
 ],
 "metadata": {
  "kernelspec": {
   "display_name": "Python 3 (ipykernel)",
   "language": "python",
   "name": "python3"
  },
  "language_info": {
   "codemirror_mode": {
    "name": "ipython",
    "version": 3
   },
   "file_extension": ".py",
   "mimetype": "text/x-python",
   "name": "python",
   "nbconvert_exporter": "python",
   "pygments_lexer": "ipython3",
   "version": "3.12.7"
  }
 },
 "nbformat": 4,
 "nbformat_minor": 5
}
