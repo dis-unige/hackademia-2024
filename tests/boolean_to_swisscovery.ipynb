{
 "cells": [
  {
   "cell_type": "code",
   "execution_count": 4,
   "id": "d7a0b26e-934c-4711-97ec-bbc01dc45ff6",
   "metadata": {},
   "outputs": [],
   "source": [
    "import urllib.parse\n",
    "import json"
   ]
  },
  {
   "cell_type": "code",
   "execution_count": 10,
   "id": "77a9cf97-d6b5-48f3-ae94-26a6f5660871",
   "metadata": {},
   "outputs": [],
   "source": [
    "input = {\n",
    "\"AUTHOR\": \"Michel Mayor\",\n",
    "\"START_DATE\": \"2000\",\n",
    "\"END_DATE\": \"2010\",\n",
    "\"SUBJECT\": \"(transitions OR transition) AND (sciences OR scientific OR technology OR technologie)\"}"
   ]
  },
  {
   "cell_type": "code",
   "execution_count": 23,
   "id": "fd091291-0cca-49c1-9051-f3601f964773",
   "metadata": {},
   "outputs": [],
   "source": [
    "def generate_unige_url(input):\n",
    "    \"\"\"\n",
    "    Génère une URL Swisscovery UNIGE à partir des paramètres fournis.\n",
    "\n",
    "    :param input: Dictionnaire contenant les paramètres (authors, start_date, end_date, subjects).\n",
    "    :return: URL construite en chaîne de caractères.\n",
    "    \"\"\"\n",
    "    base_url = \"https://unige.swisscovery.slsp.ch/discovery/search\"\n",
    "    authors = input.get(\"AUTHOR\", [])  # Concatène les auteurs avec des virgules si plusieurs.\n",
    "    subjects = input.get(\"SUBJECT\", [])  # Concatène les sujets avec des virgules si plusieurs.\n",
    "    start_date = input.get(\"START_DATE\", \"\")\n",
    "    end_date = input.get(\"END_DATE\", \"\")\n",
    "\n",
    "    # Encode en URL\n",
    "    \n",
    "    authors_encoded = urllib.parse.quote(authors)\n",
    "    subjects_encoded = urllib.parse.quote(subjects)\n",
    "    start_date_encoded = urllib.parse.quote(start_date)\n",
    "    end_date_encoded = urllib.parse.quote(end_date)\n",
    "    \n",
    "    url = (\n",
    "        f\"{base_url}?\"\n",
    "        f\"query=creator,contains,{authors_encoded},AND&\"\n",
    "        f\"query=any,contains,{subjects_encoded},AND&\"\n",
    "        f\"pfilter=dr_s,exact,{start_date_encoded}0101,AND&\"\n",
    "        f\"pfilter=dr_e,exact,{end_date_encoded}1231,AND&\"\n",
    "        f\"tab=41SLSP_UGE_MyInst_CI&\"\n",
    "        f\"search_scope=MyInst_and_CI&\"\n",
    "        f\"vid=41SLSP_UGE:VU1&\"\n",
    "        f\"mode=advanced\"\n",
    "    )\n",
    "    \n",
    "    return url\n"
   ]
  },
  {
   "cell_type": "code",
   "execution_count": 24,
   "id": "4eed03da-a2d5-4cad-965a-8eb1f9e1eef8",
   "metadata": {},
   "outputs": [
    {
     "name": "stdout",
     "output_type": "stream",
     "text": [
      "https://unige.swisscovery.slsp.ch/discovery/search?query=creator,contains,Michel%20Mayor,AND&query=any,contains,%28transitions%20OR%20transition%29%20AND%20%28sciences%20OR%20scientific%20OR%20technology%20OR%20technologie%29,AND&pfilter=dr_s,exact,20000101,AND&pfilter=dr_e,exact,20101231,AND&tab=41SLSP_UGE_MyInst_CI&search_scope=MyInst_and_CI&vid=41SLSP_UGE:VU1&mode=advanced\n"
     ]
    }
   ],
   "source": [
    "result_url = generate_unige_url(input)\n",
    "print(result_url)"
   ]
  },
  {
   "cell_type": "code",
   "execution_count": null,
   "id": "854be11c-2b9e-40f3-ac02-7bbf99ba8d15",
   "metadata": {},
   "outputs": [],
   "source": [
    "# To improve:\n",
    "# Take a response that includes not JSON text (ex: explanation before and after the JSON)\n",
    "# Manage a response with only the start date (i.e. set automatically end_date = stard_date)\n",
    "# Avoid that the AI put a subject date as a date filter (ex: document about XVIIIe s.)\n",
    "# Analyze the subjets, find synonyms and launch OR requests"
   ]
  }
 ],
 "metadata": {
  "kernelspec": {
   "display_name": "Python 3 (ipykernel)",
   "language": "python",
   "name": "python3"
  },
  "language_info": {
   "codemirror_mode": {
    "name": "ipython",
    "version": 3
   },
   "file_extension": ".py",
   "mimetype": "text/x-python",
   "name": "python",
   "nbconvert_exporter": "python",
   "pygments_lexer": "ipython3",
   "version": "3.12.7"
  }
 },
 "nbformat": 4,
 "nbformat_minor": 5
}
