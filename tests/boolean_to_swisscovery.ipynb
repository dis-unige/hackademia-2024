{
 "cells": [
  {
   "cell_type": "code",
   "execution_count": 4,
   "id": "d7a0b26e-934c-4711-97ec-bbc01dc45ff6",
   "metadata": {},
   "outputs": [],
   "source": [
    "import urllib.parse\n",
    "import json"
   ]
  },
  {
   "cell_type": "code",
   "execution_count": 3,
   "id": "03056495-1f4e-48f1-85b0-8b5e4b42f332",
   "metadata": {},
   "outputs": [
    {
     "ename": "NameError",
     "evalue": "name 'null' is not defined",
     "output_type": "error",
     "traceback": [
      "\u001b[1;31m---------------------------------------------------------------------------\u001b[0m",
      "\u001b[1;31mNameError\u001b[0m                                 Traceback (most recent call last)",
      "Cell \u001b[1;32mIn[3], line 4\u001b[0m\n\u001b[0;32m      1\u001b[0m \u001b[38;5;28minput\u001b[39m \u001b[38;5;241m=\u001b[39m {\n\u001b[0;32m      2\u001b[0m \u001b[38;5;124m\"\u001b[39m\u001b[38;5;124mAUTHOR\u001b[39m\u001b[38;5;124m\"\u001b[39m: \u001b[38;5;124m\"\u001b[39m\u001b[38;5;124mLaurent Gaudé\u001b[39m\u001b[38;5;124m\"\u001b[39m,\n\u001b[0;32m      3\u001b[0m \u001b[38;5;124m\"\u001b[39m\u001b[38;5;124mSTART_DATE\u001b[39m\u001b[38;5;124m\"\u001b[39m: \u001b[38;5;124m\"\u001b[39m\u001b[38;5;124m2008\u001b[39m\u001b[38;5;124m\"\u001b[39m,\n\u001b[1;32m----> 4\u001b[0m \u001b[38;5;124m\"\u001b[39m\u001b[38;5;124mEND_DATE\u001b[39m\u001b[38;5;124m\"\u001b[39m: null,\n\u001b[0;32m      5\u001b[0m \u001b[38;5;124m\"\u001b[39m\u001b[38;5;124mSUBJECT\u001b[39m\u001b[38;5;124m\"\u001b[39m: [\u001b[38;5;124m\"\u001b[39m\u001b[38;5;124mRoman\u001b[39m\u001b[38;5;124m\"\u001b[39m]\n\u001b[0;32m      6\u001b[0m }\n",
      "\u001b[1;31mNameError\u001b[0m: name 'null' is not defined"
     ]
    }
   ],
   "source": [
    "input = {\n",
    "\"AUTHOR\": \"Laurent Gaudé\",\n",
    "\"START_DATE\": \"2008\",\n",
    "\"END_DATE\": null,\n",
    "\"SUBJECT\": [\"Roman\"]\n",
    "}"
   ]
  },
  {
   "cell_type": "code",
   "execution_count": 7,
   "id": "00c12d2e-c795-4858-9b53-283cceb1211a",
   "metadata": {},
   "outputs": [],
   "source": [
    "input = {\n",
    " \"authors\": [\"Michel Mayor\"],\n",
    " \"start_date\": \"2000\",\n",
    " \"end_date\": \"2010\",\n",
    " \"subjects\": [\"Transitions\"]\n",
    "}"
   ]
  },
  {
   "cell_type": "code",
   "execution_count": 10,
   "id": "77a9cf97-d6b5-48f3-ae94-26a6f5660871",
   "metadata": {},
   "outputs": [],
   "source": [
    "input = {\n",
    "\"AUTHOR\": \"Michel Mayor\",\n",
    "\"START_DATE\": \"2000\",\n",
    "\"END_DATE\": \"2010\",\n",
    "\"SUBJECT\": \"(transitions OR transition) AND (sciences OR scientific OR technology OR technologie)\"}"
   ]
  },
  {
   "cell_type": "code",
   "execution_count": 13,
   "id": "fd091291-0cca-49c1-9051-f3601f964773",
   "metadata": {},
   "outputs": [],
   "source": [
    "def generate_unige_url(input):\n",
    "    \"\"\"\n",
    "    Génère une URL Swisscovery UNIGE à partir des paramètres fournis.\n",
    "\n",
    "    :param input: Dictionnaire contenant les paramètres (authors, start_date, end_date, subjects).\n",
    "    :return: URL construite en chaîne de caractères.\n",
    "    \"\"\"\n",
    "    base_url = \"https://unige.swisscovery.slsp.ch/discovery/search\"\n",
    "    authors = \",\".join(input.get(\"AUTHOR\", []))  # Concatène les auteurs avec des virgules si plusieurs.\n",
    "    subjects = \",\".join(input.get(\"SUBJECT\", []))  # Concatène les sujets avec des virgules si plusieurs.\n",
    "    start_date = input.get(\"START_DATE\", \"\")\n",
    "    end_date = input.get(\"END_DATE\", \"\")\n",
    "\n",
    "    # Encode en URL\n",
    "    \n",
    "    authors_encoded = urllib.parse.quote(authors)\n",
    "    subjects_encoded = urllib.parse.quote(subjects)\n",
    "    start_date_encoded = urllib.parse.quote(start_date)\n",
    "    end_date_encoded = urllib.parse.quote(end_date)\n",
    "    \n",
    "    url = (\n",
    "        f\"{base_url}?\"\n",
    "        f\"query=creator,contains,{authors_encoded},AND&\"\n",
    "        f\"query=any,contains,{subjects_encoded},AND&\"\n",
    "        f\"pfilter=dr_s,exact,{start_date_encoded}0101,AND&\"\n",
    "        f\"pfilter=dr_e,exact,{end_date_encoded}1231,AND&\"\n",
    "        f\"tab=41SLSP_UGE_MyInst_CI&\"\n",
    "        f\"search_scope=MyInst_and_CI&\"\n",
    "        f\"vid=41SLSP_UGE:VU1&\"\n",
    "        f\"mode=advanced\"\n",
    "    )\n",
    "    \n",
    "    return url\n",
    "\n"
   ]
  },
  {
   "cell_type": "code",
   "execution_count": 14,
   "id": "4eed03da-a2d5-4cad-965a-8eb1f9e1eef8",
   "metadata": {},
   "outputs": [
    {
     "name": "stdout",
     "output_type": "stream",
     "text": [
      "https://unige.swisscovery.slsp.ch/discovery/search?query=creator,contains,M%2Ci%2Cc%2Ch%2Ce%2Cl%2C%20%2CM%2Ca%2Cy%2Co%2Cr,AND&query=any,contains,%28%2Ct%2Cr%2Ca%2Cn%2Cs%2Ci%2Ct%2Ci%2Co%2Cn%2Cs%2C%20%2CO%2CR%2C%20%2Ct%2Cr%2Ca%2Cn%2Cs%2Ci%2Ct%2Ci%2Co%2Cn%2C%29%2C%20%2CA%2CN%2CD%2C%20%2C%28%2Cs%2Cc%2Ci%2Ce%2Cn%2Cc%2Ce%2Cs%2C%20%2CO%2CR%2C%20%2Cs%2Cc%2Ci%2Ce%2Cn%2Ct%2Ci%2Cf%2Ci%2Cc%2C%20%2CO%2CR%2C%20%2Ct%2Ce%2Cc%2Ch%2Cn%2Co%2Cl%2Co%2Cg%2Cy%2C%20%2CO%2CR%2C%20%2Ct%2Ce%2Cc%2Ch%2Cn%2Co%2Cl%2Co%2Cg%2Ci%2Ce%2C%29,AND&pfilter=dr_s,exact,20000101,AND&pfilter=dr_e,exact,20101231,AND&tab=41SLSP_UGE_MyInst_CI&search_scope=MyInst_and_CI&vid=41SLSP_UGE:VU1&mode=advanced\n"
     ]
    }
   ],
   "source": [
    "result_url = generate_unige_url(input)\n",
    "print(result_url)"
   ]
  },
  {
   "cell_type": "code",
   "execution_count": null,
   "id": "854be11c-2b9e-40f3-ac02-7bbf99ba8d15",
   "metadata": {},
   "outputs": [],
   "source": [
    "# To improve:\n",
    "# Take a response that includes not JSON text (ex: explanation before and after the JSON)\n",
    "# Manage a response with only the start date (i.e. set automatically end_date = stard_date)\n",
    "# Avoid that the AI put a subject date as a date filter (ex: document about XVIIIe s.)\n",
    "# Analyze the subjets, find synonyms and launch OR requests"
   ]
  }
 ],
 "metadata": {
  "kernelspec": {
   "display_name": "Python 3 (ipykernel)",
   "language": "python",
   "name": "python3"
  },
  "language_info": {
   "codemirror_mode": {
    "name": "ipython",
    "version": 3
   },
   "file_extension": ".py",
   "mimetype": "text/x-python",
   "name": "python",
   "nbconvert_exporter": "python",
   "pygments_lexer": "ipython3",
   "version": "3.12.7"
  }
 },
 "nbformat": 4,
 "nbformat_minor": 5
}
