{
 "cells": [
  {
   "cell_type": "markdown",
   "id": "437f5c15-b470-45f9-b8cb-3445dd0c88f7",
   "metadata": {},
   "source": [
    "# Création d'un chatbot avec un LLM opensource\n",
    "\n",
    "Auteur : Pablo Iriarte, CODIS, UNIGE - pablo.iriarte@unige.ch  \n",
    "Date de création : 15.11.2024  \n",
    "Date de dernière modification : 15.11.2024  \n",
    "\n",
    "* Source : https://medium.com/@weidagang/hello-llm-building-a-local-chatbot-with-langchain-and-llama2-3a4449fc4c03\n",
    "* LLM : LLAMA2 -> fichier llama-2-7b-chat.Q5_K_S.gguf de 4Gb disponible sur https://huggingface.co/TheBloke/Llama-2-7B-Chat-GGUF\n",
    "* Outils : LangChain -> bibliothèque open-source pour intéragir avec le LLM et ajouter des données\n",
    "* Installations sur Windows :\n",
    "    * pip install langchain langchain-community langchain-core\n",
    "    * Install VStudio and reboot\n",
    "    * Install MSVS for C++ dev (https://github.com/bycloudai/InstallVSBuildToolsWindows)\n",
    "    * pip install llama-cpp-python\n",
    "* Documentation pour l'intéraction avec le modèle : https://python.langchain.com/docs/integrations/chat/llamacpp/"
   ]
  },
  {
   "cell_type": "code",
   "execution_count": 1,
   "id": "424d10a0-3f01-4790-9259-88bf0eb3c165",
   "metadata": {},
   "outputs": [],
   "source": [
    "from langchain_community.llms import LlamaCpp\n",
    "from langchain.prompts import PromptTemplate\n",
    "from langchain.chains import LLMChain\n",
    "import multiprocessing\n",
    "from datetime import datetime\n",
    "\n",
    "# function de chat\n",
    "def chat():\n",
    "    # Load the LlamaCpp language model, adjust GPU usage based on your hardware\n",
    "    llm = LlamaCpp(\n",
    "        model_path=\"C:/Users/pablo/AI/llms/llama-2-7b-chat.Q4_K_M.gguf\",\n",
    "        temperature=0.5,\n",
    "        n_ctx=10000,\n",
    "        n_gpu_layers=800,\n",
    "        n_batch=9000,  # Should be between 1 and n_ctx, consider the amount of VRAM in your GPU.\n",
    "        max_tokens=512,\n",
    "        n_threads=multiprocessing.cpu_count() - 1,\n",
    "        repeat_penalty=1.5,\n",
    "        top_p=0.5,\n",
    "        verbose=False,  # Enable detailed logging for debugging\n",
    "    )\n",
    "    \n",
    "    # Define the prompt template with a placeholder for the question\n",
    "    template = \"\"\"\n",
    "    Question: I want to transform the question \"{question}\" into a new simple query that I can use in a library catalog search.\n",
    "    Add several synonyms for the subjects and the translation of the terms into french and english and combine all the termes with OR.\n",
    "    Don't use quotes parentheses and variables, only terms combined by OR without using operators AND or NOT.\n",
    "    Give me only the query without explanations.\n",
    "    \n",
    "    Answer:\n",
    "    \"\"\"\n",
    "    prompt = PromptTemplate(template=template, input_variables=[\"question\"])\n",
    "    \n",
    "    # Create an LLMChain to manage interactions with the prompt and model\n",
    "    llm_chain = LLMChain(prompt=prompt, llm=llm)\n",
    "    \n",
    "    print(\"Chatbot initialized, ready to chat...\")\n",
    "    while True:\n",
    "        question = input(\"> \")\n",
    "        print(datetime.now()) \n",
    "        # answer = llm_chain.run(question)\n",
    "        answer = llm_chain.invoke(question)\n",
    "        print(answer, '\\n')\n",
    "        print(datetime.now()) "
   ]
  },
  {
   "cell_type": "code",
   "execution_count": null,
   "id": "3bac7d32-6a5a-463c-b88f-f9eca9a25721",
   "metadata": {},
   "outputs": [
    {
     "name": "stderr",
     "output_type": "stream",
     "text": [
      "C:\\Users\\pablo\\AppData\\Local\\Temp\\ipykernel_12332\\1668464269.py:34: LangChainDeprecationWarning: The class `LLMChain` was deprecated in LangChain 0.1.17 and will be removed in 1.0. Use :meth:`~RunnableSequence, e.g., `prompt | llm`` instead.\n",
      "  llm_chain = LLMChain(prompt=prompt, llm=llm)\n"
     ]
    },
    {
     "name": "stdout",
     "output_type": "stream",
     "text": [
      "Chatbot initialized, ready to chat...\n"
     ]
    },
    {
     "name": "stdin",
     "output_type": "stream",
     "text": [
      ">  Je veux savoir ce qu'est le bosson de Higgs\n"
     ]
    },
    {
     "name": "stdout",
     "output_type": "stream",
     "text": [
      "2024-11-22 15:27:17.093790\n",
      "{'question': \"Je veux savoir ce qu'est le bosson de Higgs\", 'text': ' `((\"physics\" OR \"physique\") AND (\"higgs boson\" OR \"boson de Higgs\"))`'} \n",
      "\n",
      "2024-11-22 15:27:43.602055\n"
     ]
    },
    {
     "name": "stdin",
     "output_type": "stream",
     "text": [
      ">  Can you explain me the mexican revolution conducting to the independence of the country\n"
     ]
    },
    {
     "name": "stdout",
     "output_type": "stream",
     "text": [
      "2024-11-22 15:29:38.773020\n",
      "{'question': 'Can you explain me the mexican revolution conducting to the independence of the country', 'text': ' (mexican OR mexico) AND revolution* NOT independence\\n    '} \n",
      "\n",
      "2024-11-22 15:29:57.194149\n"
     ]
    },
    {
     "name": "stdin",
     "output_type": "stream",
     "text": [
      ">  comment la circonference de la terre a pu être calculé en grece antique?\n"
     ]
    },
    {
     "name": "stdout",
     "output_type": "stream",
     "text": [
      "2024-11-22 15:36:15.329029\n",
      "{'question': 'comment la circonference de la terre a pu être calculé en grece antique?', 'text': ' (circonference OR circumvolution* OR peripherique) AND (\"Grec antic\" OR \"Ancient Greek\")\\n    '} \n",
      "\n",
      "2024-11-22 15:36:38.274207\n"
     ]
    },
    {
     "name": "stdin",
     "output_type": "stream",
     "text": [
      ">  Qui a calculé la circonférence de la terre en premier?\n"
     ]
    },
    {
     "name": "stdout",
     "output_type": "stream",
     "text": [
      "2024-11-22 15:40:48.573272\n",
      "{'question': 'Qui a calculé la circonférence de la terre en premier?', 'text': ' `(subject:(\"Circonference\" OR \"Circumferences\") AND (translation_fr:\"calculer la circonférence de la terre\" OR translation_en:\"who calculated the circumference of the earth\"))`'} \n",
      "\n",
      "2024-11-22 15:41:14.606139\n"
     ]
    }
   ],
   "source": [
    "chat()"
   ]
  },
  {
   "cell_type": "code",
   "execution_count": null,
   "id": "d5e2c373-cf59-41d2-beec-e3b155df9416",
   "metadata": {},
   "outputs": [],
   "source": []
  }
 ],
 "metadata": {
  "kernelspec": {
   "display_name": "Python 3 (ipykernel)",
   "language": "python",
   "name": "python3"
  },
  "language_info": {
   "codemirror_mode": {
    "name": "ipython",
    "version": 3
   },
   "file_extension": ".py",
   "mimetype": "text/x-python",
   "name": "python",
   "nbconvert_exporter": "python",
   "pygments_lexer": "ipython3",
   "version": "3.12.3"
  }
 },
 "nbformat": 4,
 "nbformat_minor": 5
}
