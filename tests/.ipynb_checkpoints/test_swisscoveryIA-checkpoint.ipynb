{
 "cells": [
  {
   "cell_type": "markdown",
   "metadata": {},
   "source": [
    "## Septante nuances de swisscovery"
   ]
  },
  {
   "cell_type": "code",
   "execution_count": 3,
   "metadata": {
    "tags": [
     "parameters"
    ]
   },
   "outputs": [],
   "source": [
    "import ipywidgets as widgets\n",
    "from IPython.display import display, clear_output\n",
    "\n",
    "flex_subtitle = \"built using jupyter-flex\"\n",
    "flex_external_link = \"https://github.com/dis-unige/hackademia-2024/tests/test_swisscoveryIA.ipynb\"\n",
    "\n",
    "flex_title = \"swisscoveryIA\"\n",
    "flex_show_source = True"
   ]
  },
  {
   "cell_type": "markdown",
   "metadata": {
    "tags": [
     "size=8"
    ]
   },
   "source": [
    "### Pose ta question en langage naturel pour explorer la collection de la Bibliothèque de l'UNIGE"
   ]
  },
  {
   "cell_type": "code",
   "execution_count": null,
   "metadata": {},
   "outputs": [],
   "source": [
    "def on_button_clicked2(event):\n",
    "    print(\"TEST OK\")\n",
    "    with output:\n",
    "        clear_output()\n",
    "        print(f\"Recherche lancée, veuillez patienter, l'IA est un peu lente... {search.value}\")"
   ]
  },
  {
   "cell_type": "code",
   "execution_count": null,
   "metadata": {},
   "outputs": [],
   "source": [
    "search = widgets.Text(placeholder='Recherche swisscovery')\n",
    "button = widgets.Button(description=\"Go!\")\n",
    "output = widgets.Output()\n",
    "\n",
    "display(search, button, output)\n",
    "\n",
    "def on_button_clicked(b):\n",
    "    with output:\n",
    "        clear_output()\n",
    "        print(f\"Recherche lancée, veuillez patienter, l'IA est un peu lente... \")\n",
    "        myquery = search.value\n",
    "        print('ta recherche  = ' + myquery)\n",
    "\n",
    "button.on_click(on_button_clicked)"
   ]
  }
 ],
 "metadata": {
  "celltoolbar": "Tags",
  "kernelspec": {
   "display_name": "Python 3 (ipykernel)",
   "language": "python",
   "name": "python3"
  },
  "language_info": {
   "codemirror_mode": {
    "name": "ipython",
    "version": 3
   },
   "file_extension": ".py",
   "mimetype": "text/x-python",
   "name": "python",
   "nbconvert_exporter": "python",
   "pygments_lexer": "ipython3",
   "version": "3.12.3"
  }
 },
 "nbformat": 4,
 "nbformat_minor": 4
}
