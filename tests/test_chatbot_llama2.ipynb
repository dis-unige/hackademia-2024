{
 "cells": [
  {
   "cell_type": "markdown",
   "id": "437f5c15-b470-45f9-b8cb-3445dd0c88f7",
   "metadata": {},
   "source": [
    "# Création d'un chatbot avec un LLM opensource\n",
    "\n",
    "Auteur : Pablo Iriarte, CODIS, UNIGE - pablo.iriarte@unige.ch  \n",
    "Date de création : 15.11.2024  \n",
    "Date de dernière modification : 15.11.2024  \n",
    "\n",
    "* Source : https://medium.com/@weidagang/hello-llm-building-a-local-chatbot-with-langchain-and-llama2-3a4449fc4c03\n",
    "* LLM : LLAMA2 -> fichier llama-2-7b-chat.Q5_K_S.gguf de 4Gb disponible sur https://huggingface.co/TheBloke/Llama-2-7B-Chat-GGUF\n",
    "* Outils : LangChain -> bibliothèque open-source pour intéragir avec le LLM et ajouter des données\n",
    "* Installations sur Windows :\n",
    "    * pip install langchain langchain-community langchain-core\n",
    "    * Install VStudio and reboot\n",
    "    * Install MSVS for C++ dev (https://github.com/bycloudai/InstallVSBuildToolsWindows)\n",
    "    * pip install llama-cpp-python\n",
    "* Documentation pour l'intéraction avec le modèle : https://python.langchain.com/docs/integrations/chat/llamacpp/"
   ]
  },
  {
   "cell_type": "code",
   "execution_count": 1,
   "id": "424d10a0-3f01-4790-9259-88bf0eb3c165",
   "metadata": {},
   "outputs": [],
   "source": [
    "from langchain_community.llms import LlamaCpp\n",
    "from langchain.prompts import PromptTemplate\n",
    "from langchain.chains import LLMChain\n",
    "import multiprocessing\n",
    "from datetime import datetime\n",
    "\n",
    "# function de chat\n",
    "def chat():\n",
    "    # Load the LlamaCpp language model, adjust GPU usage based on your hardware\n",
    "    llm = LlamaCpp(\n",
    "        model_path=\"C:/Users/pablo/AI/llms/llama-2-7b-chat.Q4_K_M.gguf\",\n",
    "        temperature=0.5,\n",
    "        n_ctx=10000,\n",
    "        n_gpu_layers=800,\n",
    "        n_batch=9000,  # Should be between 1 and n_ctx, consider the amount of VRAM in your GPU.\n",
    "        max_tokens=512,\n",
    "        n_threads=multiprocessing.cpu_count() - 1,\n",
    "        repeat_penalty=1.5,\n",
    "        top_p=0.5,\n",
    "        verbose=False,  # Enable detailed logging for debugging\n",
    "    )\n",
    "    \n",
    "    # Define the prompt template with a placeholder for the question\n",
    "    template = \"\"\"\n",
    "    Question: I want to transform the question \"{question}\" into a new simple query that I can use in a library catalog search.\n",
    "    Add several synonyms for the subjects and the translation of the terms into french and english and combine all the termes with OR.\n",
    "    Don't use quotes parentheses and variables, only terms combined by OR without using operators AND or NOT.\n",
    "    Give me only the query without explanations.\n",
    "    \n",
    "    Answer:\n",
    "    \"\"\"\n",
    "    prompt = PromptTemplate(template=template, input_variables=[\"question\"])\n",
    "    \n",
    "    # Create an LLMChain to manage interactions with the prompt and model\n",
    "    llm_chain = LLMChain(prompt=prompt, llm=llm)\n",
    "    \n",
    "    print(\"Chatbot initialized, ready to chat...\")\n",
    "    while True:\n",
    "        question = input(\"> \")\n",
    "        print(datetime.now()) \n",
    "        # answer = llm_chain.run(question)\n",
    "        answer = llm_chain.invoke(question)\n",
    "        print(answer, '\\n')\n",
    "        print(datetime.now()) "
   ]
  },
  {
   "cell_type": "code",
   "execution_count": 2,
   "id": "3bac7d32-6a5a-463c-b88f-f9eca9a25721",
   "metadata": {},
   "outputs": [
    {
     "name": "stderr",
     "output_type": "stream",
     "text": [
      "C:\\Users\\pablo\\AppData\\Local\\Temp\\ipykernel_12332\\1668464269.py:34: LangChainDeprecationWarning: The class `LLMChain` was deprecated in LangChain 0.1.17 and will be removed in 1.0. Use :meth:`~RunnableSequence, e.g., `prompt | llm`` instead.\n",
      "  llm_chain = LLMChain(prompt=prompt, llm=llm)\n"
     ]
    },
    {
     "name": "stdout",
     "output_type": "stream",
     "text": [
      "Chatbot initialized, ready to chat...\n"
     ]
    },
    {
     "name": "stdin",
     "output_type": "stream",
     "text": [
      ">  Je veux savoir ce qu'est le bosson de Higgs\n"
     ]
    },
    {
     "name": "stdout",
     "output_type": "stream",
     "text": [
      "2024-11-22 15:27:17.093790\n",
      "{'question': \"Je veux savoir ce qu'est le bosson de Higgs\", 'text': ' `((\"physics\" OR \"physique\") AND (\"higgs boson\" OR \"boson de Higgs\"))`'} \n",
      "\n",
      "2024-11-22 15:27:43.602055\n"
     ]
    },
    {
     "name": "stdin",
     "output_type": "stream",
     "text": [
      ">  Can you explain me the mexican revolution conducting to the independence of the country\n"
     ]
    },
    {
     "name": "stdout",
     "output_type": "stream",
     "text": [
      "2024-11-22 15:29:38.773020\n",
      "{'question': 'Can you explain me the mexican revolution conducting to the independence of the country', 'text': ' (mexican OR mexico) AND revolution* NOT independence\\n    '} \n",
      "\n",
      "2024-11-22 15:29:57.194149\n"
     ]
    },
    {
     "name": "stdin",
     "output_type": "stream",
     "text": [
      ">  comment la circonference de la terre a pu être calculé en grece antique?\n"
     ]
    },
    {
     "name": "stdout",
     "output_type": "stream",
     "text": [
      "2024-11-22 15:36:15.329029\n",
      "{'question': 'comment la circonference de la terre a pu être calculé en grece antique?', 'text': ' (circonference OR circumvolution* OR peripherique) AND (\"Grec antic\" OR \"Ancient Greek\")\\n    '} \n",
      "\n",
      "2024-11-22 15:36:38.274207\n"
     ]
    },
    {
     "name": "stdin",
     "output_type": "stream",
     "text": [
      ">  Qui a calculé la circonférence de la terre en premier?\n"
     ]
    },
    {
     "name": "stdout",
     "output_type": "stream",
     "text": [
      "2024-11-22 15:40:48.573272\n",
      "{'question': 'Qui a calculé la circonférence de la terre en premier?', 'text': ' `(subject:(\"Circonference\" OR \"Circumferences\") AND (translation_fr:\"calculer la circonférence de la terre\" OR translation_en:\"who calculated the circumference of the earth\"))`'} \n",
      "\n",
      "2024-11-22 15:41:14.606139\n"
     ]
    },
    {
     "ename": "KeyboardInterrupt",
     "evalue": "Interrupted by user",
     "output_type": "error",
     "traceback": [
      "\u001b[1;31m---------------------------------------------------------------------------\u001b[0m",
      "\u001b[1;31mKeyboardInterrupt\u001b[0m                         Traceback (most recent call last)",
      "Cell \u001b[1;32mIn[2], line 1\u001b[0m\n\u001b[1;32m----> 1\u001b[0m \u001b[43mchat\u001b[49m\u001b[43m(\u001b[49m\u001b[43m)\u001b[49m\n",
      "Cell \u001b[1;32mIn[1], line 38\u001b[0m, in \u001b[0;36mchat\u001b[1;34m()\u001b[0m\n\u001b[0;32m     36\u001b[0m \u001b[38;5;28mprint\u001b[39m(\u001b[38;5;124m\"\u001b[39m\u001b[38;5;124mChatbot initialized, ready to chat...\u001b[39m\u001b[38;5;124m\"\u001b[39m)\n\u001b[0;32m     37\u001b[0m \u001b[38;5;28;01mwhile\u001b[39;00m \u001b[38;5;28;01mTrue\u001b[39;00m:\n\u001b[1;32m---> 38\u001b[0m     question \u001b[38;5;241m=\u001b[39m \u001b[38;5;28;43minput\u001b[39;49m\u001b[43m(\u001b[49m\u001b[38;5;124;43m\"\u001b[39;49m\u001b[38;5;124;43m> \u001b[39;49m\u001b[38;5;124;43m\"\u001b[39;49m\u001b[43m)\u001b[49m\n\u001b[0;32m     39\u001b[0m     \u001b[38;5;28mprint\u001b[39m(datetime\u001b[38;5;241m.\u001b[39mnow()) \n\u001b[0;32m     40\u001b[0m     \u001b[38;5;66;03m# answer = llm_chain.run(question)\u001b[39;00m\n",
      "File \u001b[1;32m~\\AppData\\Local\\Programs\\Python\\Python312\\Lib\\site-packages\\ipykernel\\kernelbase.py:1282\u001b[0m, in \u001b[0;36mKernel.raw_input\u001b[1;34m(self, prompt)\u001b[0m\n\u001b[0;32m   1280\u001b[0m     msg \u001b[38;5;241m=\u001b[39m \u001b[38;5;124m\"\u001b[39m\u001b[38;5;124mraw_input was called, but this frontend does not support input requests.\u001b[39m\u001b[38;5;124m\"\u001b[39m\n\u001b[0;32m   1281\u001b[0m     \u001b[38;5;28;01mraise\u001b[39;00m StdinNotImplementedError(msg)\n\u001b[1;32m-> 1282\u001b[0m \u001b[38;5;28;01mreturn\u001b[39;00m \u001b[38;5;28;43mself\u001b[39;49m\u001b[38;5;241;43m.\u001b[39;49m\u001b[43m_input_request\u001b[49m\u001b[43m(\u001b[49m\n\u001b[0;32m   1283\u001b[0m \u001b[43m    \u001b[49m\u001b[38;5;28;43mstr\u001b[39;49m\u001b[43m(\u001b[49m\u001b[43mprompt\u001b[49m\u001b[43m)\u001b[49m\u001b[43m,\u001b[49m\n\u001b[0;32m   1284\u001b[0m \u001b[43m    \u001b[49m\u001b[38;5;28;43mself\u001b[39;49m\u001b[38;5;241;43m.\u001b[39;49m\u001b[43m_parent_ident\u001b[49m\u001b[43m[\u001b[49m\u001b[38;5;124;43m\"\u001b[39;49m\u001b[38;5;124;43mshell\u001b[39;49m\u001b[38;5;124;43m\"\u001b[39;49m\u001b[43m]\u001b[49m\u001b[43m,\u001b[49m\n\u001b[0;32m   1285\u001b[0m \u001b[43m    \u001b[49m\u001b[38;5;28;43mself\u001b[39;49m\u001b[38;5;241;43m.\u001b[39;49m\u001b[43mget_parent\u001b[49m\u001b[43m(\u001b[49m\u001b[38;5;124;43m\"\u001b[39;49m\u001b[38;5;124;43mshell\u001b[39;49m\u001b[38;5;124;43m\"\u001b[39;49m\u001b[43m)\u001b[49m\u001b[43m,\u001b[49m\n\u001b[0;32m   1286\u001b[0m \u001b[43m    \u001b[49m\u001b[43mpassword\u001b[49m\u001b[38;5;241;43m=\u001b[39;49m\u001b[38;5;28;43;01mFalse\u001b[39;49;00m\u001b[43m,\u001b[49m\n\u001b[0;32m   1287\u001b[0m \u001b[43m\u001b[49m\u001b[43m)\u001b[49m\n",
      "File \u001b[1;32m~\\AppData\\Local\\Programs\\Python\\Python312\\Lib\\site-packages\\ipykernel\\kernelbase.py:1325\u001b[0m, in \u001b[0;36mKernel._input_request\u001b[1;34m(self, prompt, ident, parent, password)\u001b[0m\n\u001b[0;32m   1322\u001b[0m \u001b[38;5;28;01mexcept\u001b[39;00m \u001b[38;5;167;01mKeyboardInterrupt\u001b[39;00m:\n\u001b[0;32m   1323\u001b[0m     \u001b[38;5;66;03m# re-raise KeyboardInterrupt, to truncate traceback\u001b[39;00m\n\u001b[0;32m   1324\u001b[0m     msg \u001b[38;5;241m=\u001b[39m \u001b[38;5;124m\"\u001b[39m\u001b[38;5;124mInterrupted by user\u001b[39m\u001b[38;5;124m\"\u001b[39m\n\u001b[1;32m-> 1325\u001b[0m     \u001b[38;5;28;01mraise\u001b[39;00m \u001b[38;5;167;01mKeyboardInterrupt\u001b[39;00m(msg) \u001b[38;5;28;01mfrom\u001b[39;00m \u001b[38;5;28;01mNone\u001b[39;00m\n\u001b[0;32m   1326\u001b[0m \u001b[38;5;28;01mexcept\u001b[39;00m \u001b[38;5;167;01mException\u001b[39;00m:\n\u001b[0;32m   1327\u001b[0m     \u001b[38;5;28mself\u001b[39m\u001b[38;5;241m.\u001b[39mlog\u001b[38;5;241m.\u001b[39mwarning(\u001b[38;5;124m\"\u001b[39m\u001b[38;5;124mInvalid Message:\u001b[39m\u001b[38;5;124m\"\u001b[39m, exc_info\u001b[38;5;241m=\u001b[39m\u001b[38;5;28;01mTrue\u001b[39;00m)\n",
      "\u001b[1;31mKeyboardInterrupt\u001b[0m: Interrupted by user"
     ]
    }
   ],
   "source": [
    "chat()"
   ]
  },
  {
   "cell_type": "code",
   "execution_count": null,
   "id": "d5e2c373-cf59-41d2-beec-e3b155df9416",
   "metadata": {},
   "outputs": [],
   "source": []
  }
 ],
 "metadata": {
  "kernelspec": {
   "display_name": "Python 3 (ipykernel)",
   "language": "python",
   "name": "python3"
  },
  "language_info": {
   "codemirror_mode": {
    "name": "ipython",
    "version": 3
   },
   "file_extension": ".py",
   "mimetype": "text/x-python",
   "name": "python",
   "nbconvert_exporter": "python",
   "pygments_lexer": "ipython3",
   "version": "3.12.3"
  }
 },
 "nbformat": 4,
 "nbformat_minor": 5
}
